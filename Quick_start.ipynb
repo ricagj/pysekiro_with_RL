{
 "cells": [
  {
   "cell_type": "markdown",
   "metadata": {},
   "source": [
    "**以下所有的代码块都是这样**\n",
    "- 当提示 Ready! 后\n",
    "    - 按 T 开始\n",
    "    - 按 P 结束"
   ]
  },
  {
   "cell_type": "markdown",
   "metadata": {},
   "source": [
    "# 1 游戏设置"
   ]
  },
  {
   "cell_type": "markdown",
   "metadata": {},
   "source": [
    "- 打开游戏 《只狼：影逝二度》\n",
    "    - 设定\n",
    "        - 显示和声音\n",
    "            - **亮度调整**\n",
    "                - 设置 5\n",
    "        - 按键设置\n",
    "            - 移动\n",
    "                - 移动 前\n",
    "                    - 设置 W\n",
    "                - 移动 后\n",
    "                    - 设置 S\n",
    "                - 移动 左\n",
    "                    - 设置 A\n",
    "                - 移动 右\n",
    "                    - 设置 D\n",
    "                - 垫步、（长按）冲刺\n",
    "                    - 设置 .Shift\n",
    "                - 跳跃\n",
    "                    - 设置 Space\n",
    "            - 视角操作\n",
    "                - 重置视角/固定目标\n",
    "                    - 设置 Y\n",
    "            - 攻击动作\n",
    "                - **攻击**\n",
    "                    - 设置 J\n",
    "                - 使用义手忍具\n",
    "                    - 设置 .Ctrl\n",
    "                - **防御**\n",
    "                    - 设置 K\n",
    "                - 钩绳\n",
    "                    - 设置 F\n",
    "                - 使用道具\n",
    "                    - 设置 R\n",
    "        - 图像设定\n",
    "            - **屏幕模式**\n",
    "                - 窗口\n",
    "            - **屏幕分辨率**\n",
    "                - 1280 x 720\n",
    "            - 自动绘图调整\n",
    "                - OFF\n",
    "            - 质量设定\n",
    "                - 低"
   ]
  },
  {
   "cell_type": "markdown",
   "metadata": {},
   "source": [
    "### 校准游戏窗口位置"
   ]
  },
  {
   "cell_type": "markdown",
   "metadata": {},
   "source": [
    "- 将游戏窗口放在左上方  \n",
    "![example_01.png](https://github.com/ricagj/pysekiro/blob/main/imgs/example_01.png?raw=true?raw=true)"
   ]
  },
  {
   "cell_type": "markdown",
   "metadata": {},
   "source": [
    "运行以下代码，然后根据弹出来的窗口调整游戏窗口的位置"
   ]
  },
  {
   "cell_type": "code",
   "execution_count": null,
   "metadata": {},
   "outputs": [],
   "source": [
    "from pysekiro.img_tools.adjustment import main\n",
    "\n",
    "main()"
   ]
  },
  {
   "cell_type": "markdown",
   "metadata": {},
   "source": [
    "还是不懂的话，就看这个gif https://github.com/ricagj/pysekiro/blob/main/imgs/adjustment.gif"
   ]
  },
  {
   "cell_type": "markdown",
   "metadata": {},
   "source": [
    "![adjustment.png](https://github.com/ricagj/pysekiro/blob/main/imgs/adjustment.png?raw=true)"
   ]
  },
  {
   "cell_type": "markdown",
   "metadata": {},
   "source": [
    "# 2 开始"
   ]
  },
  {
   "cell_type": "markdown",
   "metadata": {},
   "source": [
    "~~~python\n",
    "class Play_Sekiro:\n",
    "    def __init__(\n",
    "        self,\n",
    "        batch_size=16,    # 样本抽取数量\n",
    "        model_weights=None,\n",
    "        save_path=None,\n",
    "        reward_curve_save_path='reward.png',\n",
    "        cheating_mode=False,    # 作弊模式\n",
    "        play_yourself=False\n",
    "    ):\n",
    "~~~"
   ]
  },
  {
   "cell_type": "markdown",
   "metadata": {},
   "source": [
    "- **batch_size** DQN在经验回放时样本抽取的数量\n",
    "- **model_weights** 指定模型权重参数读取的路径。默认为None，不读取。\n",
    "- **save_path** 指定模型权重参数保存的路径。默认为None，保存为'tmp_weights.h5'。\n",
    "    - **注：默认是测试模式，若设置该参数，就会开启训练模式**\n",
    "- **reward_curve_save_path** 奖励曲线保存路径，默认为'learn_online.png'。\n",
    "- **cheating_mode** 作弊模式。此模式只以架势为计算奖励的标准，不计生命值，所以可以尽情的开**无限生命**的外挂。**注：其他就不要开了**"
   ]
  },
  {
   "cell_type": "code",
   "execution_count": null,
   "metadata": {},
   "outputs": [],
   "source": [
    "target = 'Genichiro_Ashina' # 苇名弦一郎\n",
    "# target = 'Inner_Genichiro' # 心中的弦一郎\n",
    "# target = 'Isshin,_the_Sword_Saint' # 剑圣一心\n",
    "# target = 'Inner_Isshin' # 心中的一心"
   ]
  },
  {
   "cell_type": "code",
   "execution_count": null,
   "metadata": {},
   "outputs": [],
   "source": [
    "from pysekiro.train import Play_Sekiro"
   ]
  },
  {
   "cell_type": "code",
   "execution_count": null,
   "metadata": {},
   "outputs": [],
   "source": [
    "# 打开游戏，校准游戏窗口位置，然后运行这个开始直接在游戏中训练\n",
    "train = Play_Sekiro(save_path=target+'_w.h5', reward_curve_save_path=target+'_train.png')\n",
    "train.run()"
   ]
  },
  {
   "cell_type": "code",
   "execution_count": null,
   "metadata": {},
   "outputs": [],
   "source": [
    "# 读取模型参数，测试学习的效果（不设置save_path就是测试模式）\n",
    "test = Play_Sekiro(model_weights=target+'_w.h5', reward_curve_save_path=target+'_test.png')\n",
    "test.run()"
   ]
  },
  {
   "cell_type": "markdown",
   "metadata": {},
   "source": [
    "## 作弊模式"
   ]
  },
  {
   "cell_type": "code",
   "execution_count": null,
   "metadata": {},
   "outputs": [],
   "source": [
    "target = 'Genichiro_Ashina' # 苇名弦一郎\n",
    "# target = 'Inner_Genichiro' # 心中的弦一郎\n",
    "# target = 'Isshin,_the_Sword_Saint' # 剑圣一心\n",
    "# target = 'Inner_Isshin' # 心中的一心"
   ]
  },
  {
   "cell_type": "code",
   "execution_count": null,
   "metadata": {},
   "outputs": [],
   "source": [
    "from pysekiro.train import Play_Sekiro"
   ]
  },
  {
   "cell_type": "code",
   "execution_count": null,
   "metadata": {},
   "outputs": [],
   "source": [
    "# 打开游戏，校准游戏窗口位置，然后运行这个开始直接在游戏中训练\n",
    "train = Play_Sekiro(save_path=target+'_c_w.h5', reward_curve_save_path=target+'_c_train.png', cheating_mode=True)\n",
    "train.run()"
   ]
  },
  {
   "cell_type": "code",
   "execution_count": null,
   "metadata": {},
   "outputs": [],
   "source": [
    "# 读取模型参数，测试学习的效果（不设置save_path就是测试模式）\n",
    "test = Play_Sekiro(model_weights=target+'_c_w.h5', reward_curve_save_path=target+'_c_test.png', cheating_mode=True)\n",
    "test.run()"
   ]
  }
 ],
 "metadata": {
  "kernelspec": {
   "display_name": "Python 3",
   "language": "python",
   "name": "python3"
  },
  "language_info": {
   "codemirror_mode": {
    "name": "ipython",
    "version": 3
   },
   "file_extension": ".py",
   "mimetype": "text/x-python",
   "name": "python",
   "nbconvert_exporter": "python",
   "pygments_lexer": "ipython3",
   "version": "3.8.5"
  },
  "toc-autonumbering": false,
  "toc-showtags": false
 },
 "nbformat": 4,
 "nbformat_minor": 4
}
