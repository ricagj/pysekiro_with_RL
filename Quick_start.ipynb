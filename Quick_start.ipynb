{
 "cells": [
  {
   "cell_type": "markdown",
   "metadata": {},
   "source": [
    "**以下所有的代码块都是这样**\n",
    "- 当提示 Ready! 后\n",
    "    - 按 T 开始\n",
    "    - 按 P 结束"
   ]
  },
  {
   "cell_type": "markdown",
   "metadata": {},
   "source": [
    "# 1 游戏设置"
   ]
  },
  {
   "cell_type": "markdown",
   "metadata": {},
   "source": [
    "- 打开游戏 《只狼：影逝二度》\n",
    "    - 设定\n",
    "        - 显示和声音\n",
    "            - **亮度调整**\n",
    "                - 设置 5\n",
    "        - 按键设置\n",
    "            - 移动\n",
    "                - 移动 前\n",
    "                    - 设置 W\n",
    "                - 移动 后\n",
    "                    - 设置 S\n",
    "                - 移动 左\n",
    "                    - 设置 A\n",
    "                - 移动 右\n",
    "                    - 设置 D\n",
    "                - 垫步、（长按）冲刺\n",
    "                    - 设置 .Shift\n",
    "                - 跳跃\n",
    "                    - 设置 Space\n",
    "            - 视角操作\n",
    "                - 重置视角/固定目标\n",
    "                    - 设置 Y\n",
    "            - 攻击动作\n",
    "                - **攻击**\n",
    "                    - 设置 J\n",
    "                - 使用义手忍具\n",
    "                    - 设置 .Ctrl\n",
    "                - **防御**\n",
    "                    - 设置 K\n",
    "                - 钩绳\n",
    "                    - 设置 F\n",
    "                - 使用道具\n",
    "                    - 设置 R\n",
    "        - 图像设定\n",
    "            - **屏幕模式**\n",
    "                - 窗口\n",
    "            - **屏幕分辨率**\n",
    "                - 1280 x 720\n",
    "            - 自动绘图调整\n",
    "                - OFF\n",
    "            - 质量设定\n",
    "                - 低"
   ]
  },
  {
   "cell_type": "markdown",
   "metadata": {},
   "source": [
    "### 校准游戏窗口位置"
   ]
  },
  {
   "cell_type": "markdown",
   "metadata": {},
   "source": [
    "- 将游戏窗口放在左上方  \n",
    "![example_01.png](https://github.com/ricagj/pysekiro/blob/main/imgs/example_01.png?raw=true?raw=true)"
   ]
  },
  {
   "cell_type": "markdown",
   "metadata": {},
   "source": [
    "运行以下代码，然后根据弹出来的窗口调整游戏窗口的位置"
   ]
  },
  {
   "cell_type": "code",
   "execution_count": null,
   "metadata": {},
   "outputs": [],
   "source": [
    "from pysekiro.adjustment import main\n",
    "\n",
    "main()"
   ]
  },
  {
   "cell_type": "markdown",
   "metadata": {},
   "source": [
    "还是不懂的话，就看这个gif https://github.com/ricagj/pysekiro/blob/main/imgs/adjustment.gif"
   ]
  },
  {
   "cell_type": "markdown",
   "metadata": {},
   "source": [
    "![adjustment.png](https://github.com/ricagj/pysekiro/blob/main/imgs/adjustment.png?raw=true)"
   ]
  },
  {
   "cell_type": "markdown",
   "metadata": {},
   "source": [
    "# 2 开始"
   ]
  },
  {
   "cell_type": "markdown",
   "metadata": {},
   "source": [
    "## 2.1 无需收集数据直接开始训练"
   ]
  },
  {
   "cell_type": "markdown",
   "metadata": {},
   "source": [
    "#### 在线学习"
   ]
  },
  {
   "cell_type": "markdown",
   "metadata": {},
   "source": [
    "~~~python\n",
    "def learn_online(\n",
    "    model_weights=None,\n",
    "    save_path=None,\n",
    "    reward_curve_save_path='learn_online.png'\n",
    "    ):\n",
    "~~~"
   ]
  },
  {
   "cell_type": "markdown",
   "metadata": {},
   "source": [
    "- **model_weights** 指定模型权重的路径，读取模型权重的参数。默认为None。\n",
    "- **save_path** 指定模型权重参数保存的路径。参数默认为None，保存为'tmp_weights.h5'。\n",
    "    - **注：默认是测试模型，若设置该参数，就会开启训练模式**\n",
    "- **reward_curve_save_path** 奖励曲线保存路径，默认为'learn_online.png'。"
   ]
  },
  {
   "cell_type": "code",
   "execution_count": null,
   "metadata": {},
   "outputs": [],
   "source": [
    "from learn_online import learn_online"
   ]
  },
  {
   "cell_type": "code",
   "execution_count": null,
   "metadata": {},
   "outputs": [],
   "source": [
    "# 打开游戏，校准游戏窗口位置，然后运行这个开始直接在游戏中训练\n",
    "learn_online(save_path='online_w.h5')"
   ]
  },
  {
   "cell_type": "code",
   "execution_count": null,
   "metadata": {},
   "outputs": [],
   "source": [
    "# 读取模型参数，测试学习的效果（不设置save_path就是测试模式）\n",
    "learn_online(model_weights='online_w.h5', reward_curve_save_path='learn_online_t.png')"
   ]
  },
  {
   "cell_type": "markdown",
   "metadata": {},
   "source": [
    "## 2.2 需要收集数据"
   ]
  },
  {
   "cell_type": "markdown",
   "metadata": {},
   "source": [
    "#### 2.2.1 收集数据"
   ]
  },
  {
   "cell_type": "markdown",
   "metadata": {},
   "source": [
    "- 数据集\n",
    "    - 格式 n行2列 每行由[**图像**, **按键**]组成\n",
    "        - 图像\n",
    "            - 区域：左上角处 1280x720\n",
    "            - 存储标准：480x270, BGR\n",
    "        - 按键\n",
    "            - \"攻击\"、\"防御\"、垫步\"  、\"跳跃\" 、\"其他\" 、\"使用道具\"、\"移动 前\"、\"移动 后\"、\"移动 左\"、\"移动 右\"\n",
    "            - J    \\ K     \\ LSHIFT \\ SPACE \\ 无操作 \\ R        \\ W       \\ S        \\ A       \\ D\n",
    "            - 存储格式：列表\n",
    "    - 每个数据集都是一次完整的战斗\n",
    "        - 要求 禁所有忍具，禁所有流派招式，禁复活（出现这些行为的数据集要及时删除，不然会影响训练效果）\n",
    "        - 建议 双难（交护符和钟鬼） \n",
    "        - 可选 使用伤药葫芦等生命回复道具或夜叉戮之降临等BUFF道具"
   ]
  },
  {
   "cell_type": "markdown",
   "metadata": {},
   "source": [
    "1. 建议使用《只狼：影逝二度》v1.06版本\n",
    "2. 建议通过鬼佛处“再战稀世强者”收集数据\n",
    "3. 建议在战斗开始时开始搜集数据，战斗结束时停止，保证每一个数据集都是一场完整的战斗。"
   ]
  },
  {
   "cell_type": "markdown",
   "metadata": {},
   "source": [
    "- 以下是收集“苇名弦一郎”战斗数据的示例。\n",
    "- 如果想收集其他Boss的战斗数据，那就把target改成对应的Boss的名字"
   ]
  },
  {
   "cell_type": "code",
   "execution_count": null,
   "metadata": {},
   "outputs": [],
   "source": [
    "from pysekiro.collect_data import Data_collection\n",
    "\n",
    "# target = 'Genichiro_Ashina' # 苇名弦一郎\n",
    "target = 'Inner_Genichiro' # 心中的弦一郎\n",
    "# target = 'Isshin,_the_Sword_Saint' # 剑圣一心\n",
    "# target = 'Inner_Isshin' # 心中的一心"
   ]
  },
  {
   "cell_type": "code",
   "execution_count": null,
   "metadata": {},
   "outputs": [],
   "source": [
    "c = Data_collection(target)\n",
    "c.collect_data()"
   ]
  },
  {
   "cell_type": "markdown",
   "metadata": {},
   "source": [
    "#### 2.2.2 开始训练"
   ]
  },
  {
   "cell_type": "markdown",
   "metadata": {},
   "source": [
    "- 以下是用“苇名弦一郎”战斗数据学习的示例。\n",
    "- 如果想用其他Boss的战斗数据学习，那就把target改成对应的Boss的名字"
   ]
  },
  {
   "cell_type": "code",
   "execution_count": null,
   "metadata": {},
   "outputs": [],
   "source": [
    "from learn_offline import learn_offline\n",
    "from learn_online import learn_online\n",
    "\n",
    "target = 'Genichiro_Ashina' # 苇名弦一郎\n",
    "# target = 'Inner_Genichiro' # 心中的弦一郎\n",
    "# target = 'Isshin,_the_Sword_Saint' # 剑圣一心\n",
    "# target = 'Inner_Isshin' # 心中的一心"
   ]
  },
  {
   "cell_type": "markdown",
   "metadata": {},
   "source": [
    "##### 2.2.2.1 离线学习"
   ]
  },
  {
   "cell_type": "markdown",
   "metadata": {},
   "source": [
    "~~~python\n",
    "def learn_offline(\n",
    "    target,\n",
    "    start=1,\n",
    "    end=1,\n",
    "    model_weights=None,\n",
    "    save_path=None,\n",
    "    reward_curve_save_path='learn_offline.png'\n",
    "    ):\n",
    "~~~"
   ]
  },
  {
   "cell_type": "markdown",
   "metadata": {},
   "source": [
    "- **target** 指定训练的对象\n",
    "- **start** 指定第一个训练的数据集的序号\n",
    "- **end** 指定最后一个训练的数据集的序号\n",
    "    - 数据集的序号指的是数据集文件名里唯一的数字。e.g. training_data-19.npy 序号为 19\n",
    "    - 注：必须 start < end\n",
    "- **model_weights** 指定模型权重的路径，读取模型权重的参数。默认为None。也可用以支持增量学习。\n",
    "    - 当你搜集新的数据集之后想继续训练，设置该参数以继续训练。\n",
    "    - 当你在训练过程中发生了某种意外终止了训练，设置该参数并把发生意外时正在训练的那个数据集的序号设置为start以继续训练。\n",
    "- **save_path** 指定模型权重参数保存的路径。参数默认为None，保存为'tmp_weights.h5'。\n",
    "- **reward_curve_save_path** 奖励曲线保存路径，默认为'learn_offline.png'。"
   ]
  },
  {
   "cell_type": "code",
   "execution_count": null,
   "metadata": {},
   "outputs": [],
   "source": [
    "# 指定 start 和 end 后开始训练\n",
    "learn_offline(target, start=1, end=1, save_path='offline_w.h5')"
   ]
  },
  {
   "cell_type": "code",
   "execution_count": null,
   "metadata": {},
   "outputs": [],
   "source": [
    "# 读取离线学习的模型参数，测试学习的效果（不设置save_path就是测试模式）\n",
    "learn_online(model_weights='offline_w.h5', reward_curve_save_path='learn_offline_t.png')"
   ]
  },
  {
   "cell_type": "markdown",
   "metadata": {},
   "source": [
    "##### 2.2.2.2 在线学习"
   ]
  },
  {
   "cell_type": "markdown",
   "metadata": {},
   "source": [
    "跟前面那个在线学习的区别是读取了离线学习的模型参数  \n",
    "这意味着前面那个在线学习是零基础开始而这里的在线学习具备了一定的经验"
   ]
  },
  {
   "cell_type": "code",
   "execution_count": null,
   "metadata": {},
   "outputs": [],
   "source": [
    "# 读取离线学习的模型参数，然后在游戏中继续训练\n",
    "learn_online(model_weights='offline_w.h5', save_path='on_off_w.h5')"
   ]
  },
  {
   "cell_type": "code",
   "execution_count": null,
   "metadata": {},
   "outputs": [],
   "source": [
    "# 读取模型参数，测试学习的效果（不设置save_path就是测试模式）\n",
    "learn_online(model_weights='on_off_w.h5', reward_curve_save_path='on_off_t.png')"
   ]
  }
 ],
 "metadata": {
  "kernelspec": {
   "display_name": "Python 3",
   "language": "python",
   "name": "python3"
  },
  "language_info": {
   "codemirror_mode": {
    "name": "ipython",
    "version": 3
   },
   "file_extension": ".py",
   "mimetype": "text/x-python",
   "name": "python",
   "nbconvert_exporter": "python",
   "pygments_lexer": "ipython3",
   "version": "3.8.5"
  },
  "toc-autonumbering": false,
  "toc-showtags": false
 },
 "nbformat": 4,
 "nbformat_minor": 4
}
