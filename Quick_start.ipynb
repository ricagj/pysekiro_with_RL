{
 "cells": [
  {
   "cell_type": "markdown",
   "metadata": {},
   "source": [
    "**以下所有的代码块都是这样**\n",
    "- 当提示 Ready! 后\n",
    "    - 按 T 开始\n",
    "    - 按 P 结束"
   ]
  },
  {
   "cell_type": "markdown",
   "metadata": {},
   "source": [
    "# 1 游戏设置"
   ]
  },
  {
   "cell_type": "markdown",
   "metadata": {},
   "source": [
    "- 打开游戏 《只狼：影逝二度》\n",
    "    - 设定\n",
    "        - 显示和声音\n",
    "            - **亮度调整**\n",
    "                - 设置 5\n",
    "        - 按键设置\n",
    "            - 移动\n",
    "                - 移动 前\n",
    "                    - 设置 W\n",
    "                - 移动 后\n",
    "                    - 设置 S\n",
    "                - 移动 左\n",
    "                    - 设置 A\n",
    "                - 移动 右\n",
    "                    - 设置 D\n",
    "                - 垫步、（长按）冲刺\n",
    "                    - 设置 .Shift\n",
    "                - 跳跃\n",
    "                    - 设置 Space\n",
    "            - 视角操作\n",
    "                - 重置视角/固定目标\n",
    "                    - 设置 Y\n",
    "            - 攻击动作\n",
    "                - **攻击**\n",
    "                    - 设置 J\n",
    "                - 使用义手忍具\n",
    "                    - 设置 .Ctrl\n",
    "                - **防御**\n",
    "                    - 设置 K\n",
    "                - 钩绳\n",
    "                    - 设置 F\n",
    "                - 使用道具\n",
    "                    - 设置 R\n",
    "        - 图像设定\n",
    "            - **屏幕模式**\n",
    "                - 窗口\n",
    "            - **屏幕分辨率**\n",
    "                - 1280 x 720\n",
    "            - 自动绘图调整\n",
    "                - OFF\n",
    "            - 质量设定\n",
    "                - 低"
   ]
  },
  {
   "cell_type": "markdown",
   "metadata": {},
   "source": [
    "### 校准游戏窗口位置"
   ]
  },
  {
   "cell_type": "markdown",
   "metadata": {},
   "source": [
    "- 将游戏窗口放在左上方  \n",
    "![example_01.png](https://github.com/ricagj/pysekiro/blob/main/imgs/example_01.png?raw=true?raw=true)"
   ]
  },
  {
   "cell_type": "markdown",
   "metadata": {},
   "source": [
    "运行以下代码，然后根据弹出来的窗口调整游戏窗口的位置"
   ]
  },
  {
   "cell_type": "code",
   "execution_count": null,
   "metadata": {},
   "outputs": [],
   "source": [
    "from pysekiro.img_tools.adjustment import main\n",
    "\n",
    "main()"
   ]
  },
  {
   "cell_type": "markdown",
   "metadata": {},
   "source": [
    "还是不懂的话，就看这个gif https://github.com/ricagj/pysekiro/blob/main/imgs/adjustment.gif"
   ]
  },
  {
   "cell_type": "markdown",
   "metadata": {},
   "source": [
    "![adjustment.png](https://github.com/ricagj/pysekiro/blob/main/imgs/adjustment.png?raw=true)"
   ]
  },
  {
   "cell_type": "markdown",
   "metadata": {},
   "source": [
    "# 2 开始"
   ]
  },
  {
   "cell_type": "markdown",
   "metadata": {},
   "source": [
    "~~~python\n",
    "class Play_Sekiro:\n",
    "    def __init__(\n",
    "        self,\n",
    "        load_weights_path=None,\n",
    "        save_weights_path=None,\n",
    "        load_memory_path=None,\n",
    "        save_memory_path=None,\n",
    "    ):\n",
    "~~~"
   ]
  },
  {
   "cell_type": "markdown",
   "metadata": {},
   "source": [
    "- **load_weights_path** 指定模型权重参数加载的路径。默认为None，不加载。\n",
    "- **save_weights_path** 指定模型权重参数保存的路径。默认为None，不保存。**注：默认也是测试模式，若设置该参数，就会开启训练模式**\n",
    "- **load_memory_path** 指定记忆加载的路径。默认为None，不加载。\n",
    "- **save_memory_path** 指定记忆保存的路径。默认为None，不保存。"
   ]
  },
  {
   "cell_type": "code",
   "execution_count": null,
   "metadata": {},
   "outputs": [],
   "source": [
    "from pysekiro.train import Play_Sekiro"
   ]
  },
  {
   "cell_type": "code",
   "execution_count": null,
   "metadata": {},
   "outputs": [],
   "source": [
    "target = 'Genichiro_Ashina' # 苇名弦一郎\n",
    "# target = 'Inner_Genichiro' # 心中的弦一郎\n",
    "# target = 'Isshin,_the_Sword_Saint' # 剑圣一心\n",
    "# target = 'Inner_Isshin' # 心中的一心"
   ]
  },
  {
   "cell_type": "code",
   "execution_count": null,
   "metadata": {},
   "outputs": [],
   "source": [
    "test = Play_Sekiro(\n",
    "#     load_weights_path = target + '_w.h5',    # 注释这行就不加载模型，从零开始\n",
    "#     save_weights_path = target + '_w.h5',    # 注释这行就不保存模型，并变成测试模式\n",
    "#     load_memory_path = target + '_memory.json',    # 注释这行就不加载记忆\n",
    "#     save_memory_path = target + '_memory.json',    # 注释这行就不保存记忆\n",
    ")\n",
    "test.run()"
   ]
  }
 ],
 "metadata": {
  "kernelspec": {
   "display_name": "Python 3",
   "language": "python",
   "name": "python3"
  },
  "language_info": {
   "codemirror_mode": {
    "name": "ipython",
    "version": 3
   },
   "file_extension": ".py",
   "mimetype": "text/x-python",
   "name": "python",
   "nbconvert_exporter": "python",
   "pygments_lexer": "ipython3",
   "version": "3.8.5"
  },
  "toc-autonumbering": false,
  "toc-showtags": false
 },
 "nbformat": 4,
 "nbformat_minor": 4
}
