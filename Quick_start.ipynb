{
 "cells": [
  {
   "cell_type": "markdown",
   "metadata": {},
   "source": [
    "# 1 游戏设置"
   ]
  },
  {
   "cell_type": "markdown",
   "metadata": {},
   "source": [
    "- 打开游戏 《只狼：影逝二度》\n",
    "    - 设定\n",
    "        - 显示和声音\n",
    "            - **亮度调整**\n",
    "                - 设置 5\n",
    "        - 按键设置\n",
    "            - 移动\n",
    "                - 移动 前\n",
    "                    - 设置 W\n",
    "                - 移动 后\n",
    "                    - 设置 S\n",
    "                - 移动 左\n",
    "                    - 设置 A\n",
    "                - 移动 右\n",
    "                    - 设置 D\n",
    "                - 垫步、（长按）冲刺\n",
    "                    - 设置 .Shift\n",
    "                - 跳跃\n",
    "                    - 设置 Space\n",
    "            - 视角操作\n",
    "                - 重置视角/固定目标\n",
    "                    - 设置 Y\n",
    "            - 攻击动作\n",
    "                - **攻击**\n",
    "                    - 设置 J\n",
    "                - **防御**\n",
    "                    - 设置 K\n",
    "        - 图像设定\n",
    "            - **屏幕模式**\n",
    "                - 窗口\n",
    "            - **屏幕分辨率**\n",
    "                - 1280 x 720\n",
    "            - 自动绘图调整\n",
    "                - OFF\n",
    "            - 质量设定\n",
    "                - 低"
   ]
  },
  {
   "cell_type": "markdown",
   "metadata": {},
   "source": [
    "### 校准游戏窗口位置"
   ]
  },
  {
   "cell_type": "markdown",
   "metadata": {},
   "source": [
    "- 将游戏窗口放在左上方  \n",
    "![example_01](https://github.com/ricagj/pysekiro_with_RL/blob/main/imgs/example_01.png)"
   ]
  },
  {
   "cell_type": "markdown",
   "metadata": {},
   "source": [
    "运行以下代码，然后根据弹出来的窗口调整游戏窗口的位置"
   ]
  },
  {
   "cell_type": "code",
   "execution_count": null,
   "metadata": {},
   "outputs": [],
   "source": [
    "from pysekiro.adjustment import main\n",
    "\n",
    "main()"
   ]
  },
  {
   "cell_type": "markdown",
   "metadata": {},
   "source": [
    "- 当提示 Ready! 后\n",
    "    - 按 T 开始\n",
    "    - 按 P 结束"
   ]
  },
  {
   "cell_type": "markdown",
   "metadata": {},
   "source": [
    "![adjustment](https://github.com/ricagj/pysekiro_with_RL/blob/main/imgs/adjustment.png)"
   ]
  },
  {
   "cell_type": "markdown",
   "metadata": {},
   "source": [
    "# 2 开始"
   ]
  },
  {
   "cell_type": "markdown",
   "metadata": {},
   "source": [
    "### 2.1 用深度学习从已有的数据中学习"
   ]
  },
  {
   "cell_type": "markdown",
   "metadata": {},
   "source": [
    "##### 2.1.1 收集数据"
   ]
  },
  {
   "cell_type": "markdown",
   "metadata": {},
   "source": [
    "1. 建议使用《只狼：影逝二度》v1.06版本\n",
    "2. 建议通过鬼佛处“再战稀世强者”收集数据\n",
    "3. 建议在战斗开始时开始搜集数据，战斗结束时停止，保证每一个数据集都是一场完整的战斗。"
   ]
  },
  {
   "cell_type": "markdown",
   "metadata": {},
   "source": [
    "- 以下是收集“苇名弦一郎”战斗数据的示例。\n",
    "- 如果想收集其他Boss的战斗数据，那就把target改成对应的Boss的名字"
   ]
  },
  {
   "cell_type": "code",
   "execution_count": null,
   "metadata": {},
   "outputs": [],
   "source": [
    "from pysekiro.collect_data import Data_collection\n",
    "target = 'Genichiro_Ashina' # 苇名弦一郎\n",
    "# target = 'Inner_Genichiro' # 心中的弦一郎\n",
    "# target = 'Isshin,_the_Sword_Saint' # 剑圣一心\n",
    "# target = 'Inner_Isshin' # 心中的一心\n",
    "c = Data_collection(target)\n",
    "c.collect_data()"
   ]
  },
  {
   "cell_type": "markdown",
   "metadata": {},
   "source": [
    "- 当提示 Ready! 后\n",
    "    - 按 T 开始\n",
    "    - 按 P 结束"
   ]
  },
  {
   "cell_type": "markdown",
   "metadata": {},
   "source": [
    "##### 2.1.2 训练模型"
   ]
  },
  {
   "cell_type": "code",
   "execution_count": null,
   "metadata": {},
   "outputs": [],
   "source": [
    "from pysekiro.train_with_dl import train\n",
    "\n",
    "target = 'Genichiro_Ashina' # 苇名弦一郎\n",
    "train(target)"
   ]
  },
  {
   "cell_type": "markdown",
   "metadata": {},
   "source": [
    "##### 2.1.3 测试模型"
   ]
  },
  {
   "cell_type": "code",
   "execution_count": null,
   "metadata": {},
   "outputs": [],
   "source": [
    "from learn_online import learn_online as test\n",
    "\n",
    "test(model_weights='dl_weights.h5')"
   ]
  },
  {
   "cell_type": "markdown",
   "metadata": {},
   "source": [
    "- 当提示 Ready! 后\n",
    "    - 按 T 开始\n",
    "    - 按 P 结束"
   ]
  },
  {
   "cell_type": "markdown",
   "metadata": {},
   "source": [
    "### 2.2 用强化学习从零开始在实战中学习"
   ]
  },
  {
   "cell_type": "markdown",
   "metadata": {},
   "source": [
    "- 注：如果选择这种方式，可能学习过程会较长"
   ]
  },
  {
   "cell_type": "markdown",
   "metadata": {},
   "source": [
    "##### 2.2.1 在线学习"
   ]
  },
  {
   "cell_type": "code",
   "execution_count": null,
   "metadata": {},
   "outputs": [],
   "source": [
    "from learn_online import learn_online\n",
    "\n",
    "learn_online(save_path='Online_w.h5')"
   ]
  },
  {
   "cell_type": "markdown",
   "metadata": {},
   "source": [
    "- 当提示 Ready! 后\n",
    "    - 按 T 开始\n",
    "    - 按 P 结束"
   ]
  },
  {
   "cell_type": "markdown",
   "metadata": {},
   "source": [
    "##### 2.2.2 测试模型"
   ]
  },
  {
   "cell_type": "code",
   "execution_count": null,
   "metadata": {},
   "outputs": [],
   "source": [
    "from learn_online import learn_online\n",
    "\n",
    "learn_online(model_weights='Online_w.h5')"
   ]
  },
  {
   "cell_type": "markdown",
   "metadata": {},
   "source": [
    "- 当提示 Ready! 后\n",
    "    - 按 T 开始\n",
    "    - 按 P 结束"
   ]
  },
  {
   "cell_type": "markdown",
   "metadata": {},
   "source": [
    "### 2.3 用强化学习从已有的数据中学习，再在实战中继续学习"
   ]
  },
  {
   "cell_type": "markdown",
   "metadata": {},
   "source": [
    "##### 2.3.1 离线学习"
   ]
  },
  {
   "cell_type": "code",
   "execution_count": null,
   "metadata": {},
   "outputs": [],
   "source": [
    "from learn_offline import learn_offline\n",
    "\n",
    "target = 'Genichiro_Ashina' # 苇名弦一郎\n",
    "learn_offline(target, start=1, end=2, save_path='offline_w.h5')"
   ]
  },
  {
   "cell_type": "markdown",
   "metadata": {},
   "source": [
    "##### 2.3.2 在线学习"
   ]
  },
  {
   "cell_type": "markdown",
   "metadata": {},
   "source": [
    "- 这一步会读取离线学习的模型"
   ]
  },
  {
   "cell_type": "code",
   "execution_count": null,
   "metadata": {},
   "outputs": [],
   "source": [
    "from learn_online import learn_online\n",
    "\n",
    "learn_online(model_weights='offline_w.h5', save_path='online_w.h5')"
   ]
  },
  {
   "cell_type": "markdown",
   "metadata": {},
   "source": [
    "- 当提示 Ready! 后\n",
    "    - 按 T 开始\n",
    "    - 按 P 结束"
   ]
  },
  {
   "cell_type": "markdown",
   "metadata": {},
   "source": [
    "##### 2.3.3 测试模型"
   ]
  },
  {
   "cell_type": "code",
   "execution_count": null,
   "metadata": {},
   "outputs": [],
   "source": [
    "from learn_online import learn_online\n",
    "\n",
    "learn_online(model_weights='online_w.h5')"
   ]
  },
  {
   "cell_type": "markdown",
   "metadata": {},
   "source": [
    "- 当提示 Ready! 后\n",
    "    - 按 T 开始\n",
    "    - 按 P 结束"
   ]
  }
 ],
 "metadata": {
  "kernelspec": {
   "display_name": "Python 3",
   "language": "python",
   "name": "python3"
  },
  "language_info": {
   "codemirror_mode": {
    "name": "ipython",
    "version": 3
   },
   "file_extension": ".py",
   "mimetype": "text/x-python",
   "name": "python",
   "nbconvert_exporter": "python",
   "pygments_lexer": "ipython3",
   "version": "3.8.5"
  },
  "toc-autonumbering": false,
  "toc-showtags": false
 },
 "nbformat": 4,
 "nbformat_minor": 4
}
