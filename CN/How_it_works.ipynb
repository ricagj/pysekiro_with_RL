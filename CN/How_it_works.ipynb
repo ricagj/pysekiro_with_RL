{
 "cells": [
  {
   "cell_type": "markdown",
   "metadata": {},
   "source": [
    "# 1 图像部分\n",
    "- pysekiro\n",
    "    - img_tools\n",
    "        - \\__init__.py\n",
    "        - adjustment.py (游戏窗口校准)\n",
    "        - get_status.py (状态获取)\n",
    "        - get_vertices.py (顶点位置获取)\n",
    "        - grab_screen.py (屏幕图像抓取)"
   ]
  },
  {
   "cell_type": "markdown",
   "metadata": {},
   "source": [
    "## 1.1 屏幕图像抓取"
   ]
  },
  {
   "cell_type": "markdown",
   "metadata": {},
   "source": [
    "[grab_screen.py](https://github.com/ricagj/pysekiro_with_RL/blob/main/CN/pysekiro/img_tools/grab_screen.py)  \n",
    "源代码： [Sentdex/pygta5/blob/master/grabscreen.py](https://github.com/Sentdex/pygta5/blob/master/grabscreen.py)"
   ]
  },
  {
   "cell_type": "code",
   "execution_count": null,
   "metadata": {},
   "outputs": [],
   "source": [
    "# 运行以下代码，就会抓取当前的屏幕图像\n",
    "import cv2\n",
    "from pysekiro.img_tools.grab_screen import get_screen\n",
    "\n",
    "screen = get_screen()\n",
    "cv2.imshow('screen', screen)\n",
    "cv2.waitKey(0)\n",
    "\n",
    "print('形状', screen.shape)"
   ]
  },
  {
   "cell_type": "markdown",
   "metadata": {},
   "source": [
    "## 1.2 顶点位置获取"
   ]
  },
  {
   "cell_type": "markdown",
   "metadata": {},
   "source": [
    "[get_vertices.py](https://github.com/ricagj/pysekiro_with_RL/blob/main/CN/pysekiro/img_tools/get_vertices.py)"
   ]
  },
  {
   "cell_type": "markdown",
   "metadata": {},
   "source": [
    "![demo.gif](https://github.com/ricagj/pysekiro/blob/main/imgs/demo.gif?raw=true)"
   ]
  },
  {
   "cell_type": "markdown",
   "metadata": {},
   "source": [
    "如上面的演示所示（demo.gif），在弹出来的窗口中用鼠标左键按顺序依次点击**左下**，**左上**，**右上**，**右下**，一共 4 次，然后按键盘上的“ESC”键，就会自动返回 x, x_w, y, y_h。  \n",
    "（注意：这个点击的顺序是规定好的，点击的次数也是规定好的）"
   ]
  },
  {
   "cell_type": "code",
   "execution_count": null,
   "metadata": {},
   "outputs": [],
   "source": [
    "import cv2\n",
    "\n",
    "from pysekiro.img_tools.get_vertices import get_xywh\n",
    "from pysekiro.img_tools.grab_screen import get_screen\n",
    "\n",
    "img = get_screen()\n",
    "\n",
    "get_xywh(img)"
   ]
  },
  {
   "cell_type": "markdown",
   "metadata": {},
   "source": [
    "## 1.3 状态获取"
   ]
  },
  {
   "cell_type": "markdown",
   "metadata": {},
   "source": [
    "[get_status.py](https://github.com/ricagj/pysekiro_with_RL/blob/main/CN/pysekiro/img_tools/get_status.py)"
   ]
  },
  {
   "cell_type": "markdown",
   "metadata": {},
   "source": [
    "![get_status](https://github.com/ricagj/pysekiro/blob/main/imgs/status.jpg?raw=true)"
   ]
  },
  {
   "cell_type": "markdown",
   "metadata": {},
   "source": [
    "要获取的状态有：自身生命，自身架势，目标生命，目标架势。  \n",
    "- 获取方法\n",
    "    1. 从 [get_vertices.py](https://github.com/ricagj/pysekiro_with_RL/blob/main/CN/pysekiro/img_tools/get_vertices.py) 获取 **x, x_w, y, y_h** 。\n",
    "    2. 图像处理\n",
    "    3. 量化成数字"
   ]
  },
  {
   "cell_type": "markdown",
   "metadata": {},
   "source": [
    "### 1.3.1 生命值的获取"
   ]
  },
  {
   "cell_type": "markdown",
   "metadata": {},
   "source": [
    "1. 提取感兴趣区域\n",
    "2. 颜色通道分离，取G(Green)通道\n",
    "3. 图像阈值处理\n",
    "4. 转化为数值"
   ]
  },
  {
   "cell_type": "markdown",
   "metadata": {},
   "source": [
    "~~~python\n",
    "# 获取自身生命\n",
    "def get_Self_HP(img):\n",
    "    img_roi = roi(img, x=48, x_w=305, y=409, y_h=409+1)\n",
    "\n",
    "    b, g ,r =cv2.split(img_roi)    # 颜色通道分离\n",
    "\n",
    "    retval, img_th = cv2.threshold(g, 50, 255, cv2.THRESH_TOZERO)              # 图像阈值处理，像素点的值低于50的设置为0\n",
    "    retval, img_th = cv2.threshold(img_th, 70, 255, cv2.THRESH_TOZERO_INV)    # 图像阈值处理，像素点的值高于70的设置为0\n",
    "\n",
    "    target_img = img_th[0]\n",
    "    if 0 in target_img:\n",
    "        Self_HP = np.argmin(target_img)\n",
    "    else:\n",
    "        Self_HP = len(target_img)\n",
    "\n",
    "    return Self_HP\n",
    "\n",
    "# 获取目标生命\n",
    "def get_Target_HP(img):\n",
    "    img_roi = roi(img, x=48, x_w=216, y=41, y_h=41+1)\n",
    "\n",
    "    b, g ,r =cv2.split(img_roi)    # 颜色通道分离\n",
    "\n",
    "    retval, img_th = cv2.threshold(g, 25, 255, cv2.THRESH_TOZERO)             # 图像阈值处理，像素点的值低于25的设置为0\n",
    "    retval, img_th = cv2.threshold(img_th, 70, 255, cv2.THRESH_TOZERO_INV)    # 图像阈值处理，像素点的值高于70的设置为0\n",
    "\n",
    "    target_img = img_th[0]\n",
    "    if 0 in target_img:\n",
    "        Target_HP = np.argmin(target_img)\n",
    "    else:\n",
    "        Target_HP = len(target_img)\n",
    "    \n",
    "    return Target_HP\n",
    "~~~\n",
    "\n",
    "![demo_get_Self_HP.gif](https://github.com/ricagj/pysekiro/blob/main/imgs/demo_get_Self_HP.gif?raw=true)"
   ]
  },
  {
   "cell_type": "markdown",
   "metadata": {},
   "source": [
    "### 1.3.2 架势的获取"
   ]
  },
  {
   "cell_type": "markdown",
   "metadata": {},
   "source": [
    "- 只读取架势的右半部分\n",
    "1. 提取感兴趣区域\n",
    "2. 颜色通道分离，取R(Red)通道\n",
    "3. 等待架势中线（白线）出现\n",
    "    - 用 cv2.Canny() 检测边缘\n",
    "4. 转化为数值"
   ]
  },
  {
   "cell_type": "markdown",
   "metadata": {},
   "source": [
    "~~~python\n",
    "# 获取自身架势\n",
    "def get_Self_Posture(img):\n",
    "    img_roi = roi(img, x=401, x_w=490, y=389, y_h=389+1)\n",
    "    b, g ,r =cv2.split(img_roi)    # 颜色通道分离\n",
    "\n",
    "    white_line = r[0][0]\n",
    "    if 155 < white_line < 170 or white_line > 250:\n",
    "        canny = cv2.Canny(cv2.GaussianBlur(r,(3,3),0), 0, 100)\n",
    "        Self_Posture =  np.argmax(canny)\n",
    "    else:\n",
    "        Self_Posture = 0\n",
    "\n",
    "    if white_line > 250 and Self_Posture < 10:\n",
    "        Self_Posture == len(canny)\n",
    "\n",
    "    return Self_Posture\n",
    "\n",
    "# 获取目标架势\n",
    "def get_Target_Posture(img):\n",
    "    img_roi = roi(img, x=401, x_w=553, y=29, y_h=29+1)\n",
    "    b, g ,r =cv2.split(img_roi)    # 颜色通道分离\n",
    "\n",
    "    white_line = r[0][0]\n",
    "    if white_line > 190:\n",
    "        canny = cv2.Canny(cv2.GaussianBlur(r,(3,3),0), 0, 100)\n",
    "        Target_Posture =  np.argmax(canny)\n",
    "    else:\n",
    "        Target_Posture = 0\n",
    "\n",
    "    if white_line > 250 and Target_Posture < 10:\n",
    "        Target_Posture == len(canny)\n",
    "\n",
    "    return Target_Posture\n",
    "~~~"
   ]
  },
  {
   "cell_type": "markdown",
   "metadata": {},
   "source": [
    "# 2 按键部分\n",
    "- pysekiro\n",
    "    - key_tools\n",
    "        - \\__init__.py\n",
    "        - actions.py (动作控制)\n",
    "        - direct_keys.py (控制键盘的按键)\n",
    "        - get_keys.py (捕获键盘的按键)"
   ]
  },
  {
   "cell_type": "markdown",
   "metadata": {},
   "source": [
    "## 2.1 捕获键盘的按键"
   ]
  },
  {
   "cell_type": "markdown",
   "metadata": {},
   "source": [
    "[get_keys.py](https://github.com/ricagj/pysekiro_with_RL/blob/main/CN/pysekiro/key_tools/get_keys.py)  \n",
    "源代码： [Sentdex/pygta5/blob/master/getkeys.py](https://github.com/Sentdex/pygta5/blob/master/getkeys.py)"
   ]
  },
  {
   "cell_type": "markdown",
   "metadata": {},
   "source": [
    "[keys.py](https://github.com/Sentdex/pygta5/blob/master/keys.py) 第146行至254行\n",
    "~~~python\n",
    "# virtual keys\n",
    "vk = {\n",
    "    # 'W' : 0x57,\n",
    "    # 'S' : 0x53,\n",
    "    # 'A' : 0x41,\n",
    "    # 'D' : 0x44,\n",
    "    'LSHIFT' : 0xA0,\n",
    "    'SPACE'  : 0x20,\n",
    "\n",
    "    'J' : 0x4A,\n",
    "    'K' : 0x4B,\n",
    "\n",
    "    'T' : 0x54,\n",
    "    'P' : 0x50\n",
    "}\n",
    "~~~"
   ]
  },
  {
   "cell_type": "markdown",
   "metadata": {},
   "source": [
    "检测当前正在按的键\n",
    "~~~python\n",
    "def key_check():\n",
    "    keys = []\n",
    "    for key in ['LSHIFT', 'SPACE', 'J', 'K', 'T', 'P']:    # 'W', 'S', 'A', 'D', \n",
    "        if wapi.GetAsyncKeyState(vk[key]):\n",
    "            keys.append(key)\n",
    "    return keys\n",
    "~~~"
   ]
  },
  {
   "cell_type": "markdown",
   "metadata": {},
   "source": [
    "## 2.2 控制键盘的按键"
   ]
  },
  {
   "cell_type": "markdown",
   "metadata": {},
   "source": [
    "[direct_keys.py](https://github.com/ricagj/pysekiro_with_RL/blob/main/CN/pysekiro/key_tools/direct_keys.py)  \n",
    "源代码： [Sentdex/pygta5/blob/master/directkeys.py](https://github.com/Sentdex/pygta5/blob/master/directkeys.py)"
   ]
  },
  {
   "cell_type": "markdown",
   "metadata": {},
   "source": [
    "PressKey 压键  \n",
    "ReleaseKey 松键  "
   ]
  },
  {
   "cell_type": "markdown",
   "metadata": {},
   "source": [
    "## 2.3 动作控制"
   ]
  },
  {
   "cell_type": "markdown",
   "metadata": {},
   "source": [
    "[actions.py](https://github.com/ricagj/pysekiro_with_RL/blob/main/CN/pysekiro/key_tools/actions.py)   \n",
    "源代码： [Sentdex/pygta5/blob/master/3.%20test_model.py](https://github.com/Sentdex/pygta5/blob/master/3.%20test_model.py)"
   ]
  },
  {
   "cell_type": "markdown",
   "metadata": {},
   "source": [
    "[keys.py](https://github.com/Sentdex/pygta5/blob/master/keys.py) 第35行至143行\n",
    "~~~python\n",
    "# direct keys\n",
    "dk = {\n",
    "    'W' : 0x11,\n",
    "    'S' : 0x1F,\n",
    "    'A' : 0x1E,\n",
    "    'D' : 0x20,\n",
    "    'LSHIFT' : 0x2A,\n",
    "    'SPACE'  : 0x39,\n",
    "\n",
    "    'Y'       : 0x15,\n",
    "    'NUMPAD1' : 0x4F,\n",
    "\n",
    "    'J' : 0x24,\n",
    "    'K' : 0x25,\n",
    "}\n",
    "~~~"
   ]
  },
  {
   "cell_type": "markdown",
   "metadata": {},
   "source": [
    "e.g. \n",
    "~~~python\n",
    "def Move_Forward():\n",
    "    PressKey(dk['W'])      # 压键\n",
    "    time.sleep(0.01)    # 按键持续时间（控制长按和短按）\n",
    "    ReleaseKey(dk['W'])    # 松键\n",
    "~~~"
   ]
  },
  {
   "cell_type": "markdown",
   "metadata": {},
   "source": [
    "调用这个函数时，游戏就会接收到程序发送过来的按键信号，然后驱动操作对象做出相应的动作。"
   ]
  }
 ],
 "metadata": {
  "kernelspec": {
   "display_name": "Python 3",
   "language": "python",
   "name": "python3"
  },
  "language_info": {
   "codemirror_mode": {
    "name": "ipython",
    "version": 3
   },
   "file_extension": ".py",
   "mimetype": "text/x-python",
   "name": "python",
   "nbconvert_exporter": "python",
   "pygments_lexer": "ipython3",
   "version": "3.8.5"
  },
  "toc-autonumbering": false
 },
 "nbformat": 4,
 "nbformat_minor": 4
}
