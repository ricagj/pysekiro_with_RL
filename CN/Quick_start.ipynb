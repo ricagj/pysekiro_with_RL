{
 "cells": [
  {
   "cell_type": "markdown",
   "metadata": {},
   "source": [
    "# 1 游戏设置"
   ]
  },
  {
   "cell_type": "markdown",
   "metadata": {},
   "source": [
    "- 打开游戏 《只狼：影逝二度》\n",
    "    - 设定\n",
    "        - 显示和声音\n",
    "            - **亮度调整**\n",
    "                - 设置 5\n",
    "        - 按键设置\n",
    "            - 移动\n",
    "                - 移动 前\n",
    "                    - 设置 W (默认)\n",
    "                - 移动 后\n",
    "                    - 设置 S (默认)\n",
    "                - 移动 左\n",
    "                    - 设置 A (默认)\n",
    "                - 移动 右\n",
    "                    - 设置 D (默认)\n",
    "                - 垫步、（长按）冲刺\n",
    "                    - 设置 .Shift (默认)\n",
    "                - 跳跃\n",
    "                    - 设置 Space (默认)\n",
    "            - 视角操作\n",
    "                - **重置视角/固定目标**\n",
    "                    - 设置 Y (需要设置)\n",
    "            - 攻击动作\n",
    "                - **攻击**\n",
    "                    - 设置 J (需要设置)\n",
    "                - **防御**\n",
    "                    - 设置 K (需要设置)\n",
    "        - 图像设定\n",
    "            - **屏幕模式**\n",
    "                - 窗口\n",
    "            - **屏幕分辨率**\n",
    "                - 800 x 450\n",
    "            - 自动绘图调整\n",
    "                - OFF\n",
    "            - 质量设定\n",
    "                - 低"
   ]
  },
  {
   "cell_type": "markdown",
   "metadata": {},
   "source": [
    "### 校准游戏窗口位置"
   ]
  },
  {
   "cell_type": "markdown",
   "metadata": {},
   "source": [
    "- 将游戏窗口放在左上方  \n",
    "![adjustment_01.png](https://github.com/ricagj/pysekiro/blob/main/imgs/adjustment_01.png?raw=true)"
   ]
  },
  {
   "cell_type": "markdown",
   "metadata": {},
   "source": [
    "运行以下代码，然后根据弹出来的窗口调整游戏窗口的位置"
   ]
  },
  {
   "cell_type": "code",
   "execution_count": null,
   "metadata": {},
   "outputs": [],
   "source": [
    "from pysekiro.img_tools.adjustment import main\n",
    "\n",
    "main()"
   ]
  },
  {
   "cell_type": "markdown",
   "metadata": {},
   "source": [
    "- 当提示 \"Ready!\" 后\n",
    "    - 按 T 开始\n",
    "    - 按 P 结束"
   ]
  },
  {
   "cell_type": "markdown",
   "metadata": {},
   "source": [
    "https://github.com/ricagj/pysekiro/blob/main/imgs/adjustment.gif"
   ]
  },
  {
   "cell_type": "markdown",
   "metadata": {},
   "source": [
    "![adjustment_02.png](https://github.com/ricagj/pysekiro/blob/main/imgs/adjustment_02.png?raw=true)"
   ]
  },
  {
   "cell_type": "markdown",
   "metadata": {},
   "source": [
    "# 2 开始"
   ]
  },
  {
   "cell_type": "markdown",
   "metadata": {},
   "source": [
    "## 2.1 on-policy"
   ]
  },
  {
   "cell_type": "markdown",
   "metadata": {},
   "source": [
    "~~~python\n",
    "class Play_Sekiro_Online:\n",
    "    def __init__(\n",
    "        self,\n",
    "        save_memory_path=None,\n",
    "        load_memory_path=None,\n",
    "        save_weights_path=None,\n",
    "        load_weights_path=None\n",
    "    ):\n",
    "~~~"
   ]
  },
  {
   "cell_type": "markdown",
   "metadata": {},
   "source": [
    "- **save_memory_path** 指定记忆/经验保存的路径。默认为None，不保存。\n",
    "- **load_memory_path** 指定记忆/经验加载的路径。默认为None，不加载。\n",
    "- **save_weights_path** 指定模型权重保存的路径。默认为None，不保存。**注：默认也是测试模式，若设置该参数，就会开启训练模式**\n",
    "- **load_weights_path** 指定模型权重加载的路径。默认为None，不加载。"
   ]
  },
  {
   "cell_type": "code",
   "execution_count": null,
   "metadata": {},
   "outputs": [],
   "source": [
    "from pysekiro.on_policy import Play_Sekiro_Online"
   ]
  },
  {
   "cell_type": "code",
   "execution_count": null,
   "metadata": {},
   "outputs": [],
   "source": [
    "target = 'Genichiro_Ashina' # 苇名弦一郎\n",
    "# target = 'Inner_Genichiro' # 心中的弦一郎\n",
    "# target = 'True Monk' # 宫内破戒僧\n",
    "# target = 'Isshin,_the_Sword_Saint' # 剑圣一心\n",
    "# target = 'Inner_Isshin' # 心中的一心"
   ]
  },
  {
   "cell_type": "code",
   "execution_count": null,
   "metadata": {},
   "outputs": [],
   "source": [
    "train = Play_Sekiro_Online(\n",
    "    save_memory_path = target + '_memory.json',    # 注释这行就不保存记忆\n",
    "    load_memory_path = target + '_memory.json',    # 注释这行就不加载记忆\n",
    "    save_weights_path = target + '_w.h5',    # 注释这行就不保存模型权重\n",
    "    load_weights_path = target + '_w.h5'     # 注释这行就不加载模型权重\n",
    ")"
   ]
  },
  {
   "cell_type": "code",
   "execution_count": null,
   "metadata": {},
   "outputs": [],
   "source": [
    "train.run()"
   ]
  },
  {
   "cell_type": "markdown",
   "metadata": {},
   "source": [
    "- 当提示 \"Ready!\" 后\n",
    "    - 按 \"T\" 开始\n",
    "    - 按 \"P\" 结束"
   ]
  },
  {
   "cell_type": "markdown",
   "metadata": {},
   "source": [
    "## 2.2 off-policy"
   ]
  },
  {
   "cell_type": "markdown",
   "metadata": {},
   "source": [
    "~~~python\n",
    "class Play_Sekiro_Offline:\n",
    "    def __init__(\n",
    "        self,\n",
    "        lr,\n",
    "        batch_size,\n",
    "        load_memory_path,\n",
    "        save_weights_path,\n",
    "        load_weights_path=None\n",
    "    ):\n",
    "~~~"
   ]
  },
  {
   "cell_type": "markdown",
   "metadata": {},
   "source": [
    "- **lr** 学习率\n",
    "- **batch_size** 样本抽取数量\n",
    "- **load_memory_path** 指定记忆/经验加载的路径。\n",
    "- **save_weights_path** 指定模型权数保存的路径。默认为None，不保存。\n",
    "- **load_weights_path** 指定模型权重加载的路径。默认为None，不加载。"
   ]
  },
  {
   "cell_type": "code",
   "execution_count": null,
   "metadata": {},
   "outputs": [],
   "source": [
    "from pysekiro.off_policy import Play_Sekiro_Offline"
   ]
  },
  {
   "cell_type": "code",
   "execution_count": null,
   "metadata": {},
   "outputs": [],
   "source": [
    "target = 'Genichiro_Ashina' # 苇名弦一郎\n",
    "# target = 'Inner_Genichiro' # 心中的弦一郎\n",
    "# target = 'True Monk' # 宫内破戒僧\n",
    "# target = 'Isshin,_the_Sword_Saint' # 剑圣一心\n",
    "# target = 'Inner_Isshin' # 心中的一心"
   ]
  },
  {
   "cell_type": "code",
   "execution_count": null,
   "metadata": {},
   "outputs": [],
   "source": [
    "train = Play_Sekiro_Offline(\n",
    "    lr = 0.0001,\n",
    "    batch_size = 128,\n",
    "    load_memory_path = target + '_memory.json',      # 注释这行就不加载记忆\n",
    "    save_weights_path = target + '_w_offline.h5',    # 注释这行就不保存模型权重\n",
    "    load_weights_path = target + '_w.h5'             # 注释这行就不加载模型权重\n",
    ")"
   ]
  },
  {
   "cell_type": "code",
   "execution_count": null,
   "metadata": {},
   "outputs": [],
   "source": [
    "train.run()"
   ]
  },
  {
   "cell_type": "markdown",
   "metadata": {},
   "source": [
    "- 当提示 \"Ready!\" 后\n",
    "    - 按 \"T\" 开始\n",
    "    - 按 \"P\" 结束"
   ]
  },
  {
   "cell_type": "markdown",
   "metadata": {},
   "source": [
    "## 2.3 测试模型"
   ]
  },
  {
   "cell_type": "code",
   "execution_count": null,
   "metadata": {},
   "outputs": [],
   "source": [
    "from pysekiro.on_policy import Play_Sekiro_Online"
   ]
  },
  {
   "cell_type": "code",
   "execution_count": null,
   "metadata": {},
   "outputs": [],
   "source": [
    "target = 'Genichiro_Ashina' # 苇名弦一郎\n",
    "# target = 'Inner_Genichiro' # 心中的弦一郎\n",
    "# target = 'True Monk' # 宫内破戒僧\n",
    "# target = 'Isshin,_the_Sword_Saint' # 剑圣一心\n",
    "# target = 'Inner_Isshin' # 心中的一心"
   ]
  },
  {
   "cell_type": "code",
   "execution_count": null,
   "metadata": {},
   "outputs": [],
   "source": [
    "# model = target + '_w.h5'\n",
    "model = target + '_w_offline.h5'\n",
    "\n",
    "train = Play_Sekiro_Online(\n",
    "    load_weights_path = model     # 注释这行就不加载模型权重\n",
    ")"
   ]
  },
  {
   "cell_type": "code",
   "execution_count": null,
   "metadata": {},
   "outputs": [],
   "source": [
    "train.run()"
   ]
  },
  {
   "cell_type": "markdown",
   "metadata": {},
   "source": [
    "- 当提示 \"Ready!\" 后\n",
    "    - 按 \"T\" 开始\n",
    "    - 按 \"P\" 结束"
   ]
  }
 ],
 "metadata": {
  "kernelspec": {
   "display_name": "Python 3",
   "language": "python",
   "name": "python3"
  },
  "language_info": {
   "codemirror_mode": {
    "name": "ipython",
    "version": 3
   },
   "file_extension": ".py",
   "mimetype": "text/x-python",
   "name": "python",
   "nbconvert_exporter": "python",
   "pygments_lexer": "ipython3",
   "version": "3.8.5"
  },
  "toc-autonumbering": false,
  "toc-showtags": false
 },
 "nbformat": 4,
 "nbformat_minor": 4
}
