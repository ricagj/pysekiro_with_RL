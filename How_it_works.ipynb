{
 "cells": [
  {
   "cell_type": "markdown",
   "metadata": {},
   "source": [
    "# 1 pysekiro 模块解析"
   ]
  },
  {
   "cell_type": "markdown",
   "metadata": {},
   "source": [
    "## 1.1 按键部分\n",
    "- get_keys.py (捕获键盘的按键)\n",
    "- direct_keys.py (控制键盘的按键)\n",
    "- actions.py (动作控制)"
   ]
  },
  {
   "cell_type": "markdown",
   "metadata": {},
   "source": [
    "### 1.1.2 get_keys.py"
   ]
  },
  {
   "cell_type": "markdown",
   "metadata": {},
   "source": [
    "[查看代码](https://github.com/ricagj/pysekiro_with_RL/blob/main/pysekiro/get_keys.py)"
   ]
  },
  {
   "cell_type": "markdown",
   "metadata": {},
   "source": [
    "**注：这部分是我从别人那里借鉴而来的**  \n",
    "[源代码](https://github.com/Sentdex/pygta5/blob/master/getkeys.py)"
   ]
  },
  {
   "cell_type": "markdown",
   "metadata": {},
   "source": [
    "检测按键的部分，用的是 virtual keys 。"
   ]
  },
  {
   "cell_type": "markdown",
   "metadata": {},
   "source": [
    "~~~python\n",
    "# virtual keys\n",
    "vk = {\n",
    "    'W' : 0x57,\n",
    "    'S' : 0x53,\n",
    "    'A' : 0x41,\n",
    "    'D' : 0x44,\n",
    "\n",
    "    'J' : 0x4A,\n",
    "    'K' : 0x4B,\n",
    "    'SPACE'    : 0x20,\n",
    "    'LSHIFT'   : 0xA0,\n",
    "\n",
    "    'T' : 0x54,\n",
    "    'P' : 0x50\n",
    "}\n",
    "~~~"
   ]
  },
  {
   "cell_type": "markdown",
   "metadata": {},
   "source": [
    "vk 是从 keys.py 中截取的部分键值对，里面的按键我已经定义好了，如果你想定义更多的按键，可以在 [keys.py](https://github.com/Sentdex/pygta5/blob/master/keys.py) 中第 146 ~ 254行找到相应的按键然后添加进去"
   ]
  },
  {
   "cell_type": "markdown",
   "metadata": {},
   "source": [
    "然后，调用 key_check() 时就会检测当前正在按的键\n",
    "~~~python\n",
    "def key_check():\n",
    "    keys = []\n",
    "    for key in ['W', 'S', 'A', 'D', 'J', 'K', 'SPACE', 'LSHIFT', 'T', 'P']:\n",
    "        if wapi.GetAsyncKeyState(vk[key]):\n",
    "            keys.append(key)\n",
    "    return keys\n",
    "~~~"
   ]
  },
  {
   "cell_type": "markdown",
   "metadata": {},
   "source": [
    "可以运行以下代码体验一下，按 P 停止"
   ]
  },
  {
   "cell_type": "code",
   "execution_count": null,
   "metadata": {},
   "outputs": [],
   "source": [
    "from pysekiro.get_keys import key_check\n",
    "while True:\n",
    "    keys = key_check()\n",
    "    print(f'\\r{str(keys):<60}', end = '')\n",
    "    if 'P' in keys:\n",
    "        break"
   ]
  },
  {
   "cell_type": "markdown",
   "metadata": {},
   "source": [
    "### 1.1.3 direct_keys.py"
   ]
  },
  {
   "cell_type": "markdown",
   "metadata": {},
   "source": [
    "[查看代码](https://github.com/ricagj/pysekiro_with_RL/blob/main/pysekiro/direct_keys.py)"
   ]
  },
  {
   "cell_type": "markdown",
   "metadata": {},
   "source": [
    "**注：这部分是我从别人那里借鉴而来的**  \n",
    "[源代码](https://github.com/Sentdex/pygta5/blob/master/directkeys.py)"
   ]
  },
  {
   "cell_type": "markdown",
   "metadata": {},
   "source": [
    "PressKey 压键  \n",
    "ReleaseKey 松键  "
   ]
  },
  {
   "cell_type": "markdown",
   "metadata": {},
   "source": [
    "具体用法看 actions.py"
   ]
  },
  {
   "cell_type": "markdown",
   "metadata": {},
   "source": [
    "### 1.1.4 actions.py"
   ]
  },
  {
   "cell_type": "markdown",
   "metadata": {},
   "source": [
    "[查看代码](https://github.com/ricagj/pysekiro_with_RL/blob/main/pysekiro/actions.py)"
   ]
  },
  {
   "cell_type": "markdown",
   "metadata": {},
   "source": [
    "**注：这部分是我从别人那里借鉴而来的**  \n",
    "[源代码](https://github.com/Sentdex/pygta5/blob/master/3.%20test_model.py)"
   ]
  },
  {
   "cell_type": "markdown",
   "metadata": {},
   "source": [
    "输出按键的部分，用的是 direct keys "
   ]
  },
  {
   "cell_type": "markdown",
   "metadata": {},
   "source": [
    "#### 1.1.4.1 定义执行相应动作的函数"
   ]
  },
  {
   "cell_type": "markdown",
   "metadata": {},
   "source": [
    "~~~python\n",
    "# direct keys\n",
    "dk = {\n",
    "    'W' : 0x11,\n",
    "    'S' : 0x1F,\n",
    "    'A' : 0x1E,\n",
    "    'D' : 0x20,\n",
    "\n",
    "    'J' : 0x24,\n",
    "    'K' : 0x25,\n",
    "    'SPACE'    : 0x39,\n",
    "    'LSHIFT'   : 0x2A,\n",
    "}\n",
    "~~~"
   ]
  },
  {
   "cell_type": "markdown",
   "metadata": {},
   "source": [
    "dk 也是从 keys.py 中截取的部分键值对，里面的按键我已经定义好了，如果你想定义更多的按键，可以在 [keys.py](https://github.com/Sentdex/pygta5/blob/master/keys.py) 中第 35 ~ 143行找到相应的按键然后添加进去"
   ]
  },
  {
   "cell_type": "markdown",
   "metadata": {},
   "source": [
    "动作定义\n",
    "~~~python\n",
    "# 先在 dk 里定义好相应的按键 \n",
    "dk = {'W' : 0x11}\n",
    "\n",
    "# 然后按照下面的示例定义执行相应动作的函数 \n",
    "def Move_Forward():    # 移动 前\n",
    "    PressKey(dk['W'])      # 压键\n",
    "    time.sleep(1)    # 按键时长（控制长按短按）\n",
    "    ReleaseKey(dk['W'])    # 松键\n",
    "~~~"
   ]
  },
  {
   "cell_type": "markdown",
   "metadata": {},
   "source": [
    "调用时，游戏就会接收到程序发送过来的按键信号，然后驱动人物做出相应的动作"
   ]
  },
  {
   "cell_type": "markdown",
   "metadata": {},
   "source": [
    "#### 1.1.4.2 act(values)"
   ]
  },
  {
   "cell_type": "markdown",
   "metadata": {},
   "source": [
    "[collect_data.py](https://github.com/ricagj/pysekiro_with_RL/blob/main/pysekiro/collect_data.py) 中的 get_output() 影响的就是这里  \n",
    "~~~python\n",
    "\"\"\"\n",
    "- 'J'      -> 0 -> Attack\n",
    "- 'k'      -> 1 -> Deflect\n",
    "- 'LSHIFT' -> 2 -> Step_Dodge\n",
    "- 'SPACE'  -> 3 -> Jump\n",
    "-          -> 4 -> \n",
    "\"\"\"\n",
    "~~~"
   ]
  },
  {
   "cell_type": "markdown",
   "metadata": {},
   "source": [
    "~~~python\n",
    "# 根据 collect_data.py 中的 get_output()\n",
    "def act(values):\n",
    "    \n",
    "    if   values == 0:\n",
    "        act = Attack     # 攻击\n",
    "    elif values == 1:\n",
    "        act = Deflect    # 弹反\n",
    "    elif values == 2:\n",
    "        act = Step_Dodge # 垫步\n",
    "    elif values == 3:\n",
    "        act = Jump       # 跳跃\n",
    "    elif values == 4:\n",
    "        act = Move_Forward # 其他（暂时用 移动 前 替代）\n",
    "\n",
    "    act_process = threading.Thread(target=act)\n",
    "    act_process.start()\n",
    "~~~"
   ]
  },
  {
   "cell_type": "markdown",
   "metadata": {},
   "source": [
    "## 1.2 图像部分\n",
    "- grab_screen.py (屏幕图像抓取)\n",
    "- get_vertices.py (顶点位置获取)\n",
    "- get_status.py (状态获取)"
   ]
  },
  {
   "cell_type": "markdown",
   "metadata": {},
   "source": [
    "### 1.2.1 grab_screen.py"
   ]
  },
  {
   "cell_type": "markdown",
   "metadata": {},
   "source": [
    "[查看代码](https://github.com/ricagj/pysekiro_with_RL/blob/main/pysekiro/grab_screen.py)"
   ]
  },
  {
   "cell_type": "markdown",
   "metadata": {},
   "source": [
    "**注：这部分是我从别人那里借鉴而来的**  \n",
    "[源代码](https://github.com/Sentdex/pygta5/blob/master/grabscreen.py)"
   ]
  },
  {
   "cell_type": "markdown",
   "metadata": {},
   "source": [
    "我修改了 grab_screen 的返回值\n",
    "~~~python\n",
    "return cv2.cvtColor(img, cv2.COLOR_BGRA2GRAY)\n",
    "~~~\n",
    "\n",
    "追加了以下内容\n",
    "~~~python\n",
    "# 游戏窗口大小\n",
    "GAME_WIDTH = 1280\n",
    "GAME_HEIGHT = 720\n",
    "\n",
    "# 标准窗口大小\n",
    "STANDARD_WIDTH = 480\n",
    "STANDARD_HEIGHT = 270\n",
    "\n",
    "FRAME_COUNT = 1\n",
    "\n",
    "def get_screen():\n",
    "    # 屏幕捕获，并图像缩放\n",
    "    screen = grab_screen(region=(0, 30, GAME_WIDTH, GAME_HEIGHT+30))\n",
    "    screen = cv2.resize(screen, (STANDARD_WIDTH, STANDARD_HEIGHT))\n",
    "\n",
    "    return screen\n",
    "~~~"
   ]
  },
  {
   "cell_type": "code",
   "execution_count": null,
   "metadata": {},
   "outputs": [],
   "source": [
    "import cv2\n",
    "from pysekiro.grab_screen import get_screen\n",
    "\n",
    "screen = get_screen()\n",
    "cv2.imshow('screen', screen)\n",
    "cv2.waitKey(0)\n",
    "\n",
    "print('图像', screen)\n",
    "print('形状', screen.shape)"
   ]
  },
  {
   "cell_type": "markdown",
   "metadata": {},
   "source": [
    "### 1.2.2 get_vertices.py"
   ]
  },
  {
   "cell_type": "markdown",
   "metadata": {},
   "source": [
    "[查看代码](https://github.com/ricagj/pysekiro_with_RL/blob/main/pysekiro/get_vertices.py)"
   ]
  },
  {
   "cell_type": "markdown",
   "metadata": {},
   "source": [
    "其实就是我无法写出一个自动把血条、架势条抠出来的代码，所以才写的这个半自动的程序。  \n",
    "这个程序的主要作用是，在图像上点击然后自动返回相关的位置信息。这样就能获取到血条或者架势条在图像中的位置信息。  \n",
    "以下是把人物抠出来的演示  \n",
    "![demo.gif](https://github.com/ricagj/pysekiro_with_RL/blob/main/imgs/demo.gif?raw=true)"
   ]
  },
  {
   "cell_type": "markdown",
   "metadata": {},
   "source": [
    "如图所示，在弹出来的窗口中用鼠标左键按顺序依次点击**左下**，**左上**，**右上**，**右下**，一共 4 次，然后按键盘上的“ESC”键，就会自动返回 x, x_w, y, y_h, vertices 。  \n",
    "（注意：这个顺序是规定好的，可点击的次数也是规定好的）"
   ]
  },
  {
   "cell_type": "markdown",
   "metadata": {},
   "source": [
    "其中    \n",
    "x 代表 x轴的起始位置，也是图像的最左边  \n",
    "y 代表 y轴的起始位置，也是图像的最上边  \n",
    "x_w 代表 x轴的终止位置，也是图像的最右边  \n",
    "y_h 代表 y轴的终止位置，也是图像的最下边  \n",
    "vertices = [[x, y_h], [x, y], [x_w, y], [x_w, y_h]] (依次代表图像的左下角、左上角、右上角和右下角的位置。)  "
   ]
  },
  {
   "cell_type": "markdown",
   "metadata": {},
   "source": [
    "**这些位置信息看起来有点奇怪，是因为图像的原点其实在左上角，想一下矩阵第一行或第一列在什么位置应该就理解了**"
   ]
  },
  {
   "cell_type": "code",
   "execution_count": null,
   "metadata": {},
   "outputs": [],
   "source": [
    "# 参照着上面的演示自己试一下\n",
    "import cv2\n",
    "from pysekiro.get_vertices import get_vertices\n",
    "\n",
    "img = cv2.imread(\".\\imgs\\demo.png\", 0)\n",
    "get_vertices(img)"
   ]
  },
  {
   "cell_type": "markdown",
   "metadata": {},
   "source": [
    "### 1.2.3 get_status.py"
   ]
  },
  {
   "cell_type": "markdown",
   "metadata": {},
   "source": [
    "[查看代码](https://github.com/ricagj/pysekiro_with_RL/blob/main/pysekiro/get_status.py)"
   ]
  },
  {
   "cell_type": "markdown",
   "metadata": {},
   "source": [
    "![get_status](https://github.com/ricagj/pysekiro_with_RL/blob/main/imgs/adjustment.png?raw=true)"
   ]
  },
  {
   "cell_type": "markdown",
   "metadata": {},
   "source": [
    "要获取的状态有：自身生命，自身架势，目标生命，目标架势。  \n",
    "- 获取方法\n",
    "    - 靠 [get_vertices.py](https://github.com/ricagj/pysekiro_with_RL/blob/main/pysekiro/get_vertices.py) 把状态抠出来。\n",
    "    - 用图像阈值处理（cv2.threshold）处理范围外的像素点（比如获取生命值状态，红色的部分是生命值，非红色的部分不是，那非红色的部分就是范围外），将其设为0\n",
    "    - 通过计数法转化为数值"
   ]
  },
  {
   "cell_type": "markdown",
   "metadata": {},
   "source": [
    "- 生命值的获取\n",
    "    - 在灰度图中，像素点值的在一个固定的范围内，用图像阈值处理处理得好的话基本上能准确获取数值。\n",
    "\n",
    "~~~python\n",
    "# 获取自身生命\n",
    "def get_Self_HP(img):\n",
    "    img_roi = roi(img, x=29, x_w=182, y=246, y_h=246+1)[0]    # 获取自 get_vertices.py\n",
    "    retval, img_th = cv2.threshold(img_roi, 60, 255, cv2.THRESH_TOZERO)    # 低于60的像素点的值设置为0\n",
    "    retval, img_th = cv2.threshold(img_th, 80, 255, cv2.cv2.THRESH_TOZERO_INV)    # 高于80的像素点的值设置为0\n",
    "    img_th = np.reshape(img_th, (img_roi.shape))\n",
    "    Self_HP = get_value(img_th)    # 获取数值\n",
    "    return Self_HP\n",
    "\n",
    "# 获取目标生命  \n",
    "# 代码和获取自身生命类似，这里就不贴出来了  \n",
    "~~~"
   ]
  },
  {
   "cell_type": "markdown",
   "metadata": {},
   "source": [
    "- 架势的获取\n",
    "    - 架势和生命不同，它是从中间开始往两边增加的。我们没有必要两边都获取，只需要一边就够了。我选择的是中间和右边。\n",
    "    - 还有几个问题比较麻烦，就是架势在归零的时候会不显示，积累到一定时候颜色会变化，生命值低还有异常状态的时候也和正常的时候不一样。设置开启条件后能较稳定的获取数值。\n",
    "    - 所谓的开启条件，就是架势条中间那条白色的线所在的像素点以及它右边第一个像素点，当这两个像素点满足一定条件，才记录架势。\n",
    "\n",
    "~~~python\n",
    "# 获取自身架势\n",
    "def get_Self_Posture(img):\n",
    "    img_roi = roi(img, x=240, x_w=290, y=234, y_h=234+1)[0]    # 获取自 get_vertices.py\n",
    "    retval, img_th = cv2.threshold(img_roi, 100, 255, cv2.THRESH_TOZERO)    # 低于100的像素点的值设置为0\n",
    "    img_th = np.reshape(img_th, (img_roi.shape))\n",
    "    if int(img_th[0]) - int(img_th[1]) > 15:    # 开启条件\n",
    "        if img_th[1] in range(100, 125) and img_th[0] in range(145, 165):\n",
    "            Self_Posture = get_value(img_th)\n",
    "        elif img_th[1] in range(135, 160) and img_th[0] in range(180, 220):\n",
    "            Self_Posture = get_value(img_th)\n",
    "        elif img_th[1] in range(160, 230) and img_th[0] in range(200, 250):\n",
    "            Self_Posture = get_value(img_th)\n",
    "        else:\n",
    "            Self_Posture = 0\n",
    "    else:\n",
    "        Self_Posture = 0\n",
    "    return Self_Posture\n",
    "\n",
    "# 获取目标架势\n",
    "# 代码和获取自身架势类似，这里就不贴出来了\n",
    "~~~"
   ]
  },
  {
   "cell_type": "markdown",
   "metadata": {},
   "source": [
    "获取数值  \n",
    "范围外的像素点已经通过图像阈值处理处理成0了，所以计算第一个出现的0的左边有多少个非0值，得到的结果就是我们需要的那个状态值\n",
    "~~~python\n",
    "def get_value(target_img):\n",
    "    count = 0\n",
    "    for i in range(len(target_img)-1):\n",
    "        cur_pixel = int(target_img[i])\n",
    "        if cur_pixel == 0:\n",
    "            break\n",
    "        count += 1\n",
    "    return count\n",
    "~~~"
   ]
  },
  {
   "cell_type": "markdown",
   "metadata": {},
   "source": [
    "不理解的话就把 get_status.py 内的以下代码取消注释然后去运行下面的代码\n",
    "~~~python\n",
    "#     print('\\n', img_th)\n",
    "~~~\n",
    "\n",
    "~~~python\n",
    "# 运行这个\n",
    "from pysekiro.collect_data import Data_collection\n",
    "target = 'Genichiro_Ashina' # 苇名弦一郎\n",
    "c = Data_collection(target)\n",
    "c.collect_data()\n",
    "~~~"
   ]
  }
 ],
 "metadata": {
  "kernelspec": {
   "display_name": "Python 3",
   "language": "python",
   "name": "python3"
  },
  "language_info": {
   "codemirror_mode": {
    "name": "ipython",
    "version": 3
   },
   "file_extension": ".py",
   "mimetype": "text/x-python",
   "name": "python",
   "nbconvert_exporter": "python",
   "pygments_lexer": "ipython3",
   "version": "3.8.5"
  },
  "toc-autonumbering": false
 },
 "nbformat": 4,
 "nbformat_minor": 4
}
