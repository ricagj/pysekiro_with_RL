{
 "cells": [
  {
   "cell_type": "code",
   "execution_count": null,
   "metadata": {},
   "outputs": [],
   "source": [
    "from pysekiro.collect_data import Data_collection\n",
    "\n",
    "target = 'Genichiro_Ashina' # 苇名弦一郎\n",
    "# target = 'Inner_Genichiro' # 心中的弦一郎\n",
    "# target = 'Isshin,_the_Sword_Saint' # 剑圣一心\n",
    "# target = 'Inner_Isshin' # 心中的一心"
   ]
  },
  {
   "cell_type": "code",
   "execution_count": null,
   "metadata": {},
   "outputs": [],
   "source": [
    "c = Data_collection(target)\n",
    "c.collect_data()"
   ]
  },
  {
   "cell_type": "markdown",
   "metadata": {},
   "source": [
    "# 数据预览"
   ]
  },
  {
   "cell_type": "markdown",
   "metadata": {},
   "source": [
    "可以先看这个演示 https://github.com/ricagj/pysekiro/blob/main/imgs/data_preview.gif"
   ]
  },
  {
   "cell_type": "markdown",
   "metadata": {},
   "source": [
    "**注：以下展示的是我本地的数据集，我没有上传，所以要运行以下代码，请先自己收集至少一个数据集**"
   ]
  },
  {
   "cell_type": "markdown",
   "metadata": {},
   "source": [
    "- The_battle_memory\n",
    "    - Genichiro_Ashina （苇名弦一郎）\n",
    "        - training_data-1.npy （第一个战斗数据）"
   ]
  },
  {
   "cell_type": "code",
   "execution_count": null,
   "metadata": {},
   "outputs": [],
   "source": [
    "import os\n",
    "\n",
    "import cv2\n",
    "import numpy as np\n",
    "import pandas as pd\n",
    "\n",
    "target = 'Genichiro_Ashina' # 苇名弦一郎\n",
    "# target = 'Inner_Genichiro' # 心中的弦一郎\n",
    "# target = 'Isshin,_the_Sword_Saint' # 剑圣一心\n",
    "# target = 'Inner_Isshin' # 心中的一心\n",
    "\n",
    "path = os.path.join('The_battle_memory', target, f'training_data-{19}.npy')\n",
    "if os.path.exists(path):\n",
    "    data = np.load(path, allow_pickle=True)\n",
    "    print(f'当前数据集所包含数据量：{data.shape[0]}, 每个数据都有 {data.shape[1]} 个数据，分别是图像数据和按键数据')\n",
    "else:\n",
    "    print('数据集不存在，以下代码无法运行')"
   ]
  },
  {
   "cell_type": "code",
   "execution_count": null,
   "metadata": {},
   "outputs": [],
   "source": [
    "screen = data[0][0]    # 选取了第一个数据的图像部分\n",
    "# print('图像', screen)\n",
    "print('形状', screen.shape)"
   ]
  },
  {
   "cell_type": "code",
   "execution_count": null,
   "metadata": {},
   "outputs": [],
   "source": [
    "action_value = data[0][1]    # 选取了第一个数据的按键记录部分\n",
    "print('按键记录', action_value)\n",
    "print('目前的训练只使用前五个，即独热编码部分  ', action_value[:5])"
   ]
  },
  {
   "cell_type": "code",
   "execution_count": null,
   "metadata": {},
   "outputs": [],
   "source": [
    "# 统计动作分布\n",
    "def motionCounts(Y):\n",
    "\n",
    "    columns=['攻击', '弹反', '垫步', '跳跃', '无键', '道具', '向前', '向后', '向左', '向右']\n",
    "    df = pd.DataFrame(Y, columns=columns, dtype=np.uint8)\n",
    "    \n",
    "    total = len(df)\n",
    "\n",
    "    for motion in columns:\n",
    "        motion_count = len(df)-df[motion].value_counts()[0]\n",
    "        print(f'motion: {motion:>3}, 记录到的次数: {motion_count:>5}')\n",
    "\n",
    "Y = np.array([i[1] for i in data])\n",
    "motionCounts(Y)"
   ]
  },
  {
   "cell_type": "code",
   "execution_count": null,
   "metadata": {},
   "outputs": [],
   "source": [
    "from pysekiro.get_vertices import roi\n",
    "\n",
    "print()\n",
    "print('以视频的形式展示数据。', '要你自己运行才看得见视频')\n",
    "Remaining = len(data)\n",
    "for screen, action_value in data:\n",
    "    action = np.argmax(action_value[:5])\n",
    "\n",
    "    if   action == 0:\n",
    "        a = '攻击'\n",
    "    elif action == 1:\n",
    "        a = '弹反'\n",
    "    elif action == 2:\n",
    "        a = '垫步'\n",
    "    elif action == 3:\n",
    "        a = '跳跃'\n",
    "    elif action == 4:\n",
    "        a = '其他'\n",
    "\n",
    "    cv2.imshow('screen', screen)\n",
    "    cv2.imshow('roi', roi(screen, x=140, x_w=340, y=30, y_h=230))\n",
    "    cv2.waitKey(1)\n",
    "\n",
    "    Remaining -= 1\n",
    "    print(f'\\r 剩余: {Remaining:>4}, 动作:{a} {action_value}', end='') # end='\\n'\n",
    "    if cv2.waitKey(1) & 0xFF == ord('q'):    # 按 q 键关闭视频\n",
    "        cv2.destroyAllWindows()\n",
    "        break\n",
    "else:\n",
    "    cv2.destroyAllWindows()"
   ]
  }
 ],
 "metadata": {
  "kernelspec": {
   "display_name": "Python 3",
   "language": "python",
   "name": "python3"
  },
  "language_info": {
   "codemirror_mode": {
    "name": "ipython",
    "version": 3
   },
   "file_extension": ".py",
   "mimetype": "text/x-python",
   "name": "python",
   "nbconvert_exporter": "python",
   "pygments_lexer": "ipython3",
   "version": "3.8.5"
  },
  "toc-autonumbering": false
 },
 "nbformat": 4,
 "nbformat_minor": 4
}
